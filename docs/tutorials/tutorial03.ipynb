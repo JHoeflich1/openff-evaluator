{
 "cells": [
  {
   "cell_type": "markdown",
   "metadata": {
    "collapsed": true,
    "pycharm": {
     "name": "#%% md\n"
    }
   },
   "source": [
    "# Tutorial 03 - Analysing Estimated Data Sets\n",
    "\n",
    "In this tutorial we will be analysing the results of the calculations which we performed in the [second tutorial](tutorial02.ipynb). \n",
    "The tutorial will cover:\n",
    "\n",
    "- comparing the estimated data set with the experimental data set.\n",
    "- plotting the two data sets. "
   ]
  },
  {
   "cell_type": "markdown",
   "source": [
    "*Note: If you are running this example in google colab you will need to run a setup script instead of following the \n",
    "installation instructions:*"
   ],
   "metadata": {
    "collapsed": false
   }
  },
  {
   "cell_type": "code",
   "execution_count": 1,
   "outputs": [],
   "source": [
    "# !wget https://raw.githubusercontent.com/openforcefield/openff-evaluator/tutorials/docs/tutorials/colab_setup.ipynb\n",
    "# %run colab_setup.ipynb"
   ],
   "metadata": {
    "collapsed": false,
    "pycharm": {
     "name": "#%%\n",
     "is_executing": false
    }
   }
  },
  {
   "cell_type": "markdown",
   "source": [
    "For the sake of clarity all warnings will be disabled in this tutorial:"
   ],
   "metadata": {
    "collapsed": false
   }
  },
  {
   "cell_type": "code",
   "execution_count": 2,
   "outputs": [],
   "source": [
    "import warnings\n",
    "warnings.filterwarnings('ignore')\n",
    "import logging\n",
    "logging.getLogger(\"openforcefield\").setLevel(logging.ERROR)"
   ],
   "metadata": {
    "collapsed": false,
    "pycharm": {
     "name": "#%%\n",
     "is_executing": false
    }
   }
  },
  {
   "cell_type": "markdown",
   "source": [
    "## Loading the Data Sets\n",
    "\n",
    "We will begin by loading both the experimental data set and the estimated data set:"
   ],
   "metadata": {
    "collapsed": false,
    "pycharm": {
     "name": "#%% md\n"
    }
   }
  },
  {
   "cell_type": "code",
   "execution_count": 3,
   "outputs": [
    {
     "name": "stderr",
     "text": [
      "RDKit WARNING: [13:40:17] Enabling RDKit 2019.09.3 jupyter extensions\n"
     ],
     "output_type": "stream"
    }
   ],
   "source": [
    "from evaluator.datasets import PhysicalPropertyDataSet\n",
    "\n",
    "experimental_data_set_path = \"filtered_data_set.json\"\n",
    "estimated_data_set_path = \"estimated_data_set.json\"\n",
    "\n",
    "# If you have not yet completed the previous tutorials or do not have the data set files \n",
    "# available, copies are provided by the framework:\n",
    "\n",
    "from evaluator.utils import get_data_filename\n",
    "experimental_data_set_path = get_data_filename(\n",
    "    \"tutorials/tutorial01/filtered_data_set.json\"\n",
    ")\n",
    "estimated_data_set_path = get_data_filename(\n",
    "    \"tutorials/tutorial02/estimated_data_set.json\"\n",
    ")\n",
    "\n",
    "experimental_data_set = PhysicalPropertyDataSet.from_json(experimental_data_set_path)\n",
    "estimated_data_set = PhysicalPropertyDataSet.from_json(estimated_data_set_path)"
   ],
   "metadata": {
    "collapsed": false,
    "pycharm": {
     "name": "#%%\n",
     "is_executing": false
    }
   }
  },
  {
   "cell_type": "markdown",
   "source": [
    "if everything went well from the previous tutorials, these data sets will contain the density and $H_{vap}$ of ethanol \n",
    "and isopropanol:"
   ],
   "metadata": {
    "collapsed": false,
    "pycharm": {
     "name": "#%% md\n"
    }
   }
  },
  {
   "cell_type": "code",
   "execution_count": 4,
   "outputs": [
    {
     "data": {
      "text/plain": "  Temperature     Pressure   Phase  N Components Component 1   Role 1  \\\n0    298.15 K  101.325 kPa  Liquid             1      CC(C)O  Solvent   \n1    298.15 K  101.325 kPa  Liquid             1      CC(C)O  Solvent   \n2    298.15 K  101.325 kPa  Liquid             1         CCO  Solvent   \n3    298.15 K  101.325 kPa  Liquid             1         CCO  Solvent   \n\n   Mole Fraction 1 Exact Amount 1       Density Value  Density Uncertainty  \\\n0              1.0           None   782.7 kg / m ** 3                  NaN   \n1              1.0           None                 NaN                  NaN   \n2              1.0           None  785.07 kg / m ** 3                  NaN   \n3              1.0           None                 NaN                  NaN   \n\n  EnthalpyOfVaporization Value EnthalpyOfVaporization Uncertainty  \\\n0                          NaN                                NaN   \n1               45.34 kJ / mol                      0.02 kJ / mol   \n2                          NaN                                NaN   \n3               42.26 kJ / mol                      0.02 kJ / mol   \n\n                          Source  \n0    10.1016/j.fluid.2013.10.034  \n1  10.1016/S0021-9614(71)80108-8  \n2              10.1021/je1013476  \n3  10.1016/S0021-9614(71)80108-8  ",
      "text/html": "<div>\n<style scoped>\n    .dataframe tbody tr th:only-of-type {\n        vertical-align: middle;\n    }\n\n    .dataframe tbody tr th {\n        vertical-align: top;\n    }\n\n    .dataframe thead th {\n        text-align: right;\n    }\n</style>\n<table border=\"1\" class=\"dataframe\">\n  <thead>\n    <tr style=\"text-align: right;\">\n      <th></th>\n      <th>Temperature</th>\n      <th>Pressure</th>\n      <th>Phase</th>\n      <th>N Components</th>\n      <th>Component 1</th>\n      <th>Role 1</th>\n      <th>Mole Fraction 1</th>\n      <th>Exact Amount 1</th>\n      <th>Density Value</th>\n      <th>Density Uncertainty</th>\n      <th>EnthalpyOfVaporization Value</th>\n      <th>EnthalpyOfVaporization Uncertainty</th>\n      <th>Source</th>\n    </tr>\n  </thead>\n  <tbody>\n    <tr>\n      <th>0</th>\n      <td>298.15 K</td>\n      <td>101.325 kPa</td>\n      <td>Liquid</td>\n      <td>1</td>\n      <td>CC(C)O</td>\n      <td>Solvent</td>\n      <td>1.0</td>\n      <td>None</td>\n      <td>782.7 kg / m ** 3</td>\n      <td>NaN</td>\n      <td>NaN</td>\n      <td>NaN</td>\n      <td>10.1016/j.fluid.2013.10.034</td>\n    </tr>\n    <tr>\n      <th>1</th>\n      <td>298.15 K</td>\n      <td>101.325 kPa</td>\n      <td>Liquid</td>\n      <td>1</td>\n      <td>CC(C)O</td>\n      <td>Solvent</td>\n      <td>1.0</td>\n      <td>None</td>\n      <td>NaN</td>\n      <td>NaN</td>\n      <td>45.34 kJ / mol</td>\n      <td>0.02 kJ / mol</td>\n      <td>10.1016/S0021-9614(71)80108-8</td>\n    </tr>\n    <tr>\n      <th>2</th>\n      <td>298.15 K</td>\n      <td>101.325 kPa</td>\n      <td>Liquid</td>\n      <td>1</td>\n      <td>CCO</td>\n      <td>Solvent</td>\n      <td>1.0</td>\n      <td>None</td>\n      <td>785.07 kg / m ** 3</td>\n      <td>NaN</td>\n      <td>NaN</td>\n      <td>NaN</td>\n      <td>10.1021/je1013476</td>\n    </tr>\n    <tr>\n      <th>3</th>\n      <td>298.15 K</td>\n      <td>101.325 kPa</td>\n      <td>Liquid</td>\n      <td>1</td>\n      <td>CCO</td>\n      <td>Solvent</td>\n      <td>1.0</td>\n      <td>None</td>\n      <td>NaN</td>\n      <td>NaN</td>\n      <td>42.26 kJ / mol</td>\n      <td>0.02 kJ / mol</td>\n      <td>10.1016/S0021-9614(71)80108-8</td>\n    </tr>\n  </tbody>\n</table>\n</div>"
     },
     "metadata": {},
     "output_type": "execute_result",
     "execution_count": 4
    }
   ],
   "source": [
    "experimental_data_set.to_pandas().head()"
   ],
   "metadata": {
    "collapsed": false,
    "pycharm": {
     "name": "#%%\n",
     "is_executing": false
    }
   }
  },
  {
   "cell_type": "code",
   "execution_count": 5,
   "outputs": [
    {
     "data": {
      "text/plain": "  Temperature     Pressure   Phase  N Components Component 1   Role 1  \\\n0    298.15 K  101.325 kPa  Liquid             1      CC(C)O  Solvent   \n1    298.15 K  101.325 kPa  Liquid             1      CC(C)O  Solvent   \n2    298.15 K  101.325 kPa  Liquid             1         CCO  Solvent   \n3    298.15 K  101.325 kPa  Liquid             1         CCO  Solvent   \n\n   Mole Fraction 1 Exact Amount 1              Density Value  \\\n0              1.0           None  0.8037040199927107 g / ml   \n1              1.0           None                        NaN   \n2              1.0           None    0.79306223834769 g / ml   \n3              1.0           None                        NaN   \n\n            Density Uncertainty EnthalpyOfVaporization Value  \\\n0    0.00064094532111253 g / ml                          NaN   \n1                           NaN  45.412329430981764 kJ / mol   \n2  0.0006351508582454262 g / ml                          NaN   \n3                           NaN   39.48635367254331 kJ / mol   \n\n  EnthalpyOfVaporization Uncertainty           Source  \n0                                NaN  SimulationLayer  \n1       0.20448559923210105 kJ / mol  SimulationLayer  \n2                                NaN  SimulationLayer  \n3        0.1367673630610498 kJ / mol  SimulationLayer  ",
      "text/html": "<div>\n<style scoped>\n    .dataframe tbody tr th:only-of-type {\n        vertical-align: middle;\n    }\n\n    .dataframe tbody tr th {\n        vertical-align: top;\n    }\n\n    .dataframe thead th {\n        text-align: right;\n    }\n</style>\n<table border=\"1\" class=\"dataframe\">\n  <thead>\n    <tr style=\"text-align: right;\">\n      <th></th>\n      <th>Temperature</th>\n      <th>Pressure</th>\n      <th>Phase</th>\n      <th>N Components</th>\n      <th>Component 1</th>\n      <th>Role 1</th>\n      <th>Mole Fraction 1</th>\n      <th>Exact Amount 1</th>\n      <th>Density Value</th>\n      <th>Density Uncertainty</th>\n      <th>EnthalpyOfVaporization Value</th>\n      <th>EnthalpyOfVaporization Uncertainty</th>\n      <th>Source</th>\n    </tr>\n  </thead>\n  <tbody>\n    <tr>\n      <th>0</th>\n      <td>298.15 K</td>\n      <td>101.325 kPa</td>\n      <td>Liquid</td>\n      <td>1</td>\n      <td>CC(C)O</td>\n      <td>Solvent</td>\n      <td>1.0</td>\n      <td>None</td>\n      <td>0.8037040199927107 g / ml</td>\n      <td>0.00064094532111253 g / ml</td>\n      <td>NaN</td>\n      <td>NaN</td>\n      <td>SimulationLayer</td>\n    </tr>\n    <tr>\n      <th>1</th>\n      <td>298.15 K</td>\n      <td>101.325 kPa</td>\n      <td>Liquid</td>\n      <td>1</td>\n      <td>CC(C)O</td>\n      <td>Solvent</td>\n      <td>1.0</td>\n      <td>None</td>\n      <td>NaN</td>\n      <td>NaN</td>\n      <td>45.412329430981764 kJ / mol</td>\n      <td>0.20448559923210105 kJ / mol</td>\n      <td>SimulationLayer</td>\n    </tr>\n    <tr>\n      <th>2</th>\n      <td>298.15 K</td>\n      <td>101.325 kPa</td>\n      <td>Liquid</td>\n      <td>1</td>\n      <td>CCO</td>\n      <td>Solvent</td>\n      <td>1.0</td>\n      <td>None</td>\n      <td>0.79306223834769 g / ml</td>\n      <td>0.0006351508582454262 g / ml</td>\n      <td>NaN</td>\n      <td>NaN</td>\n      <td>SimulationLayer</td>\n    </tr>\n    <tr>\n      <th>3</th>\n      <td>298.15 K</td>\n      <td>101.325 kPa</td>\n      <td>Liquid</td>\n      <td>1</td>\n      <td>CCO</td>\n      <td>Solvent</td>\n      <td>1.0</td>\n      <td>None</td>\n      <td>NaN</td>\n      <td>NaN</td>\n      <td>39.48635367254331 kJ / mol</td>\n      <td>0.1367673630610498 kJ / mol</td>\n      <td>SimulationLayer</td>\n    </tr>\n  </tbody>\n</table>\n</div>"
     },
     "metadata": {},
     "output_type": "execute_result",
     "execution_count": 5
    }
   ],
   "source": [
    "estimated_data_set.to_pandas().head()"
   ],
   "metadata": {
    "collapsed": false,
    "pycharm": {
     "name": "#%%\n",
     "is_executing": false
    }
   }
  },
  {
   "cell_type": "markdown",
   "source": [
    "## Extracting the Results\n",
    "\n",
    "We will now compare how the value of each property estimated by simulation deviates from the experimental measurement. \n",
    "\n",
    "To do this we will extract a list which contains pairs of experimental and evaluated properties. We can easily match \n",
    "properties based on the unique ids which were automatically assigned to them on their creation:"
   ],
   "metadata": {
    "collapsed": false
   }
  },
  {
   "cell_type": "code",
   "execution_count": 6,
   "outputs": [],
   "source": [
    "properties_by_type = {\n",
    "    \"Density\": [],\n",
    "    \"EnthalpyOfVaporization\": []\n",
    "}\n",
    "\n",
    "for experimental_property in experimental_data_set:\n",
    "\n",
    "    # Find the estimated property which has the same id as the\n",
    "    # experimental property.\n",
    "    estimated_property = next(\n",
    "        x for x in estimated_data_set if x.id == experimental_property.id\n",
    "    )\n",
    "    \n",
    "    # Add this pair of properties to the list of pairs\n",
    "    property_type = experimental_property.__class__.__name__\n",
    "    properties_by_type[property_type].append((experimental_property, estimated_property))"
   ],
   "metadata": {
    "collapsed": false,
    "pycharm": {
     "name": "#%%\n",
     "is_executing": false
    }
   }
  },
  {
   "cell_type": "markdown",
   "source": [
    "## Plotting the Results\n",
    "\n",
    "We will now compare the experimental results to the estimated ones by plotting them using `matplotlib`:"
   ],
   "metadata": {
    "collapsed": false,
    "pycharm": {
     "name": "#%% md\n"
    }
   }
  },
  {
   "cell_type": "code",
   "execution_count": 13,
   "outputs": [
    {
     "data": {
      "text/plain": "<Figure size 576x288 with 2 Axes>",
      "image/png": "[encoded data removed]"
     },
     "metadata": {
      "needs_background": "light"
     },
     "output_type": "display_data"
    }
   ],
   "source": [
    "from matplotlib import pyplot\n",
    "\n",
    "# Create the figure we will plot to.\n",
    "figure, axes = pyplot.subplots(nrows=1, ncols=2, figsize=(8.0, 4.0))\n",
    "\n",
    "# Set the axis titles\n",
    "axes[0].set_xlabel('OpenFF 1.0.0')\n",
    "axes[0].set_ylabel('Experimental')\n",
    "axes[0].set_title('Density $kg m^{-3}$')\n",
    "\n",
    "axes[1].set_xlabel('OpenFF 1.0.0 $kJ mol^{-1}$')\n",
    "axes[1].set_ylabel('Experimental $kJ mol^{-1}$')\n",
    "axes[1].set_title('$H_{vap}$ $kJ mol^{-1}$')\n",
    "\n",
    "# Define the preferred units of the properties\n",
    "from evaluator import unit\n",
    "\n",
    "preferred_units = {\n",
    "    \"Density\": unit.kilogram / unit.meter ** 3,\n",
    "    \"EnthalpyOfVaporization\": unit.kilojoule / unit.mole\n",
    "}\n",
    "\n",
    "for index, property_type in enumerate(properties_by_type):\n",
    "\n",
    "    experimental_values = []\n",
    "    estimated_values = []\n",
    "\n",
    "    preferred_unit = preferred_units[property_type]\n",
    "\n",
    "    # Convert the values of our properties to the preferred units.\n",
    "    for experimental_property, estimated_property in properties_by_type[property_type]:\n",
    "        \n",
    "        experimental_values.append(\n",
    "            experimental_property.value.to(preferred_unit).magnitude\n",
    "        )\n",
    "        estimated_values.append(\n",
    "            estimated_property.value.to(preferred_unit).magnitude\n",
    "        )\n",
    "\n",
    "    axes[index].plot(\n",
    "        estimated_values, experimental_values, marker='x', linestyle='None'\n",
    "    )\n",
    "    axes[index].set_aspect('equal', 'box')"
   ],
   "metadata": {
    "collapsed": false,
    "pycharm": {
     "name": "#%%\n",
     "is_executing": false
    }
   }
  },
  {
   "cell_type": "markdown",
   "source": [
    "## Conclusion\n",
    "\n",
    "And that concludes the third tutorial. "
   ],
   "metadata": {
    "collapsed": false,
    "pycharm": {
     "name": "#%% md\n"
    }
   }
  }
 ],
 "metadata": {
  "kernelspec": {
   "display_name": "Python 3",
   "language": "python",
   "name": "python3"
  },
  "language_info": {
   "codemirror_mode": {
    "name": "ipython",
    "version": 2
   },
   "file_extension": ".py",
   "mimetype": "text/x-python",
   "name": "python",
   "nbconvert_exporter": "python",
   "pygments_lexer": "ipython2",
   "version": "2.7.6"
  },
  "pycharm": {
   "stem_cell": {
    "cell_type": "raw",
    "source": [],
    "metadata": {
     "collapsed": false
    }
   }
  }
 },
 "nbformat": 4,
 "nbformat_minor": 0
}