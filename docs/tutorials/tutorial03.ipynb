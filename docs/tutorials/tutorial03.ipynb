{
 "cells": [
  {
   "cell_type": "markdown",
   "metadata": {
    "collapsed": true,
    "pycharm": {
     "name": "#%% md\n"
    }
   },
   "source": [
    "# Tutorial 03 - Analysing Estimated Data Sets\n",
    "\n",
    "In this tutorial we will be analysing the results of the calculations which we performed in the [second tutorial](tutorial02.ipynb). \n",
    "The tutorial will cover:\n",
    "\n",
    "- comparing the estimated data set with the experimental data set.\n",
    "- plotting the two data sets. "
   ]
  },
  {
   "cell_type": "markdown",
   "source": [
    "*Note: If you are running this example in google colab you will need to run a setup script instead of following the \n",
    "installation instructions:*"
   ],
   "metadata": {
    "collapsed": false
   }
  },
  {
   "cell_type": "code",
   "execution_count": null,
   "outputs": [],
   "source": [
    "# !wget https://raw.githubusercontent.com/openforcefield/openff-evaluator/tutorials/docs/tutorials/colab_setup.ipynb\n",
    "# %run colab_setup.ipynb"
   ],
   "metadata": {
    "collapsed": false,
    "pycharm": {
     "name": "#%%\n"
    }
   }
  },
  {
   "cell_type": "markdown",
   "source": [
    "For the sake of clarity all warnings will be disabled in this tutorial:"
   ],
   "metadata": {
    "collapsed": false
   }
  },
  {
   "cell_type": "code",
   "execution_count": null,
   "outputs": [],
   "source": [
    "import warnings\n",
    "warnings.filterwarnings('ignore')\n",
    "import logging\n",
    "logging.getLogger(\"openforcefield\").setLevel(logging.ERROR)"
   ],
   "metadata": {
    "collapsed": false,
    "pycharm": {
     "name": "#%%\n"
    }
   }
  },
  {
   "cell_type": "markdown",
   "source": [
    "## Loading the Data Sets\n",
    "\n",
    "We will begin by loading both the experimental data set and the estimated data set:"
   ],
   "metadata": {
    "collapsed": false,
    "pycharm": {
     "name": "#%% md\n"
    }
   }
  },
  {
   "cell_type": "code",
   "execution_count": null,
   "outputs": [],
   "source": [
    "from evaluator.datasets import PhysicalPropertyDataSet\n",
    "\n",
    "experimental_data_set_path = \"filtered_data_set.json\"\n",
    "estimated_data_set_path = \"estimated_data_set.json\"\n",
    "\n",
    "# If you have not yet completed the previous tutorials or do not have the data set files \n",
    "# available, copies are provided by the framework:\n",
    "\n",
    "# from evaluator.utils import get_data_filename\n",
    "# experimental_data_set_path = get_data_filename(\n",
    "#     \"tutorials/tutorial01/filtered_data_set.json\"\n",
    "# )\n",
    "# estimated_data_set_path = get_data_filename(\n",
    "#     \"tutorials/tutorial02/estimated_data_set.json\"\n",
    "# )\n",
    "\n",
    "experimental_data_set = PhysicalPropertyDataSet.from_json(experimental_data_set_path)\n",
    "estimated_data_set = PhysicalPropertyDataSet.from_json(estimated_data_set_path)"
   ],
   "metadata": {
    "collapsed": false,
    "pycharm": {
     "name": "#%%\n"
    }
   }
  },
  {
   "cell_type": "markdown",
   "source": [
    "if everything went well from the previous tutorials, these data sets will contain the density and $H_{vap}$ of ethanol \n",
    "and isopropanol:"
   ],
   "metadata": {
    "collapsed": false,
    "pycharm": {
     "name": "#%% md\n"
    }
   }
  },
  {
   "cell_type": "code",
   "execution_count": null,
   "outputs": [],
   "source": [
    "experimental_data_set.to_pandas().head()\n",
    "estimated_data_set.to_pandas().head()\n"
   ],
   "metadata": {
    "collapsed": false,
    "pycharm": {
     "name": "#%%\n"
    }
   }
  },
  {
   "cell_type": "markdown",
   "source": [
    "## Extracting the Results\n",
    "\n",
    "We will now compare how the value of each property estimated by simulation deviates from the experimental measurement. \n",
    "\n",
    "To do this we will extract a list which contains pairs of experimental and evaluated properties. We can easily match \n",
    "properties based on the unique ids which were automatically assigned to them on their creation:"
   ],
   "metadata": {
    "collapsed": false
   }
  },
  {
   "cell_type": "code",
   "execution_count": null,
   "outputs": [],
   "source": [
    "properties_by_type = {\n",
    "    \"Density\": [],\n",
    "    \"EnthalpyOfVaporization\": []\n",
    "}\n",
    "\n",
    "for experimental_property in experimental_data_set:\n",
    "\n",
    "    # Find the estimated property which has the same id as the\n",
    "    # experimental property.\n",
    "    estimated_property = next(\n",
    "        x for x in estimated_data_set if x.id == experimental_property.id\n",
    "    )\n",
    "    \n",
    "    # Add this pair of properties to the list of pairs\n",
    "    property_type = experimental_property.__class__.__name__\n",
    "    properties_by_type[property_type].append((experimental_property, estimated_property))"
   ],
   "metadata": {
    "collapsed": false,
    "pycharm": {
     "name": "#%%\n"
    }
   }
  },
  {
   "cell_type": "markdown",
   "source": [
    "## Plotting the Results\n",
    "\n",
    "We will now compare the experimental results to the estimated ones by plotting them using `matplotlib`. To enable \n",
    "plotting within this notebook, we will first enable the `matplotlib` inline mode:"
   ],
   "metadata": {
    "collapsed": false,
    "pycharm": {
     "name": "#%% md\n"
    }
   }
  },
  {
   "cell_type": "code",
   "execution_count": null,
   "outputs": [],
   "source": [
    "%matplotlib inline"
   ],
   "metadata": {
    "collapsed": false,
    "pycharm": {
     "name": "#%%\n"
    }
   }
  },
  {
   "cell_type": "markdown",
   "source": [
    "The two data sets may then be plotted by:"
   ],
   "metadata": {
    "collapsed": false,
    "pycharm": {
     "name": "#%% md\n"
    }
   }
  },
  {
   "cell_type": "code",
   "execution_count": null,
   "outputs": [],
   "source": [
    "from matplotlib import pyplot\n",
    "\n",
    "# Create the figure we will plot to.\n",
    "figure, axes = pyplot.subplots(nrows=1, ncols=2, figsize=(8.0, 4.0))\n",
    "\n",
    "# Set the axis titles\n",
    "axes[0].set_xlabel('OpenFF 1.0.0 $kg m^{-3}')\n",
    "axes[0].set_ylabel('Experimental $kg m^{-3}')\n",
    "\n",
    "axes[1].set_xlabel('OpenFF 1.0.0 $kJ mol^{-1}')\n",
    "axes[1].set_ylabel('Experimental $kJ mol^{-1}')\n",
    "\n",
    "# Define the preferred units of the properties\n",
    "from evaluator import unit\n",
    "\n",
    "preferred_units = {\n",
    "    \"Density\": unit.kilogram / unit.meter ** 3,\n",
    "    \"EnthalpyOfVaporization\": unit.kilojoule / unit.mole\n",
    "}\n",
    "\n",
    "for index, property_type in properties_by_type:\n",
    "\n",
    "    experimental_values = []\n",
    "    estimated_values = []\n",
    "\n",
    "    preferred_unit = preferred_units[property_type]\n",
    "\n",
    "    # Convert the values of our properties to the preferred units.\n",
    "    for experimental_property, estimated_property in properties_by_type[property_type]:\n",
    "        \n",
    "        experimental_values.append(\n",
    "            experimental_property.value.to(preferred_unit).magnitude\n",
    "        )\n",
    "        estimated_values.append(\n",
    "            estimated_property.value.to(preferred_unit).magnitude\n",
    "        )\n",
    "\n",
    "    axes[index].plot(x=estimated_values, y=experimental_values, fmt='x')\n",
    "    axes[index].set_aspect('equal')"
   ],
   "metadata": {
    "collapsed": false,
    "pycharm": {
     "name": "#%%\n"
    }
   }
  },
  {
   "cell_type": "markdown",
   "source": [
    "## Conclusion\n",
    "\n",
    "And that concludes the third tutorial. "
   ],
   "metadata": {
    "collapsed": false,
    "pycharm": {
     "name": "#%% md\n"
    }
   }
  }
 ],
 "metadata": {
  "kernelspec": {
   "display_name": "Python 3",
   "language": "python",
   "name": "python3"
  },
  "language_info": {
   "codemirror_mode": {
    "name": "ipython",
    "version": 2
   },
   "file_extension": ".py",
   "mimetype": "text/x-python",
   "name": "python",
   "nbconvert_exporter": "python",
   "pygments_lexer": "ipython2",
   "version": "2.7.6"
  },
  "pycharm": {
   "stem_cell": {
    "cell_type": "raw",
    "source": [],
    "metadata": {
     "collapsed": false
    }
   }
  }
 },
 "nbformat": 4,
 "nbformat_minor": 0
}