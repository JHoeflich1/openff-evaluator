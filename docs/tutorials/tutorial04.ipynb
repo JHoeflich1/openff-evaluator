{
 "nbformat": 4,
 "nbformat_minor": 0,
 "metadata": {
  "kernelspec": {
   "name": "python3",
   "display_name": "Python 3"
  },
  "language_info": {
   "codemirror_mode": {
    "name": "ipython",
    "version": 2
   },
   "file_extension": ".py",
   "mimetype": "text/x-python",
   "name": "python",
   "nbconvert_exporter": "python",
   "pygments_lexer": "ipython2",
   "version": "2.7.6"
  },
  "pycharm": {
   "stem_cell": {
    "cell_type": "raw",
    "source": [],
    "metadata": {
     "collapsed": false
    }
   }
  },
  "colab": {
   "name": "tutorial02.ipynb",
   "provenance": []
  },
  "accelerator": "GPU"
 },
 "cells": [
  {
   "cell_type": "markdown",
   "source": [
    "# Tutorial 04 - Optimizing Force Fields\n",
    "\n",
    "In this tutorial we will be using the OpenFF Evaluator framework in combination with the fantastic [ForceBalance](\n",
    "https://github.com/leeping/forcebalance) software to optimize a molecular force field against the physical property data \n",
    "set we created in the [first tutorial](tutorial01.ipynb).\n",
    "\n",
    "ForceBalance offers a suite of tools for optimizing molecular force fields against a set of target data. Perhaps one of \n",
    "the most fundamental targets to fit against is experimental physical property data. Physical property data has been used \n",
    "extensively for decades to inform the values of non-bonded Van der Waals (VdW) interaction parameters (often referred to \n",
    "as Lennard-Jones parameters).\n",
    "\n",
    "ForceBalance is seamlessly integrated with the evaluator framework, using it to evaluate the deviations between\n",
    "target experimentally measured data points and those evaluated using the force field being optimized (as well as the \n",
    "gradient of those deviations with respect to the force field parameters being optimized).\n",
    "\n",
    "The tutorial will cover:\n",
    "\n",
    "- setting up the input files and directory structure required by ForceBalace.\n",
    "- setting up an EvaluatorServer for ForceBalance to connect to.\n",
    "- running ForceBalance using those input files.\n",
    "- extracting and plotting a number of statistics output during the optimization."
   ],
   "metadata": {
    "collapsed": false
   }
  },
  {
   "cell_type": "markdown",
   "source": [
    "*Note: If you are running this tutorial in google colab you will need to run a setup script instead of following the \n",
    "installation instructions:*"
   ],
   "metadata": {
    "collapsed": false
   }
  },
  {
   "cell_type": "code",
   "execution_count": null,
   "outputs": [],
   "source": [
    "# !wget https://raw.githubusercontent.com/openforcefield/openff-evaluator/master/docs/tutorials/colab_setup.ipynb\n",
    "# %run colab_setup.ipynb"
   ],
   "metadata": {
    "collapsed": false,
    "pycharm": {
     "name": "#%%\n"
    }
   }
  },
  {
   "cell_type": "markdown",
   "source": [
    "*For this tutorial make sure that you are using a GPU accelerated runtime.*\n",
    "\n",
    "For the sake of clarity all warnings will be disabled in this tutorial:"
   ],
   "metadata": {
    "collapsed": false
   }
  },
  {
   "cell_type": "code",
   "execution_count": null,
   "outputs": [],
   "source": [
    "import warnings\n",
    "warnings.filterwarnings('ignore')\n",
    "import logging\n",
    "logging.getLogger(\"openforcefield\").setLevel(logging.ERROR)"
   ],
   "metadata": {
    "collapsed": false,
    "pycharm": {
     "name": "#%%\n"
    }
   }
  },
  {
   "cell_type": "markdown",
   "source": [
    "We will also enable time-stamped logging to help track the progress of our calculations:"
   ],
   "metadata": {
    "collapsed": false
   }
  },
  {
   "cell_type": "code",
   "execution_count": null,
   "outputs": [],
   "source": [
    "from evaluator.utils import setup_timestamp_logging\n",
    "setup_timestamp_logging()"
   ],
   "metadata": {
    "collapsed": false,
    "pycharm": {
     "name": "#%%\n"
    }
   }
  },
  {
   "cell_type": "markdown",
   "source": [
    "## Setting up the ForceBalance Inputs\n",
    "\n",
    "We will begin by creating the directory structure required by ForceBalance before populating it with the required input \n",
    "files.\n",
    "\n",
    "### Creating the Directory Structure\n",
    "\n",
    "We will need to create a directory to store the starting force field parameters in:"
   ],
   "metadata": {
    "collapsed": false
   }
  },
  {
   "cell_type": "code",
   "execution_count": null,
   "outputs": [],
   "source": [
    "!mkdir forcefield"
   ],
   "metadata": {
    "collapsed": false,
    "pycharm": {
     "name": "#%%\n"
    }
   }
  },
  {
   "cell_type": "markdown",
   "source": [
    "and one to store the input parameters for our 'fitting target' - in this case a data set of physical properties:"
   ],
   "metadata": {
    "collapsed": false
   }
  },
  {
   "cell_type": "code",
   "execution_count": null,
   "outputs": [],
   "source": [
    "!mkdir -p targets/pure_data"
   ],
   "metadata": {
    "collapsed": false,
    "pycharm": {
     "name": "#%%\n"
    }
   }
  },
  {
   "cell_type": "markdown",
   "source": [
    "### Storing the Initial Force Field Parameters\n",
    "\n",
    "For this example optimization we will use the OpenFF Parsley force field as the starting parameters. This can be \n",
    "downloaded directly from github:"
   ],
   "metadata": {
    "collapsed": false
   }
  },
  {
   "cell_type": "code",
   "execution_count": null,
   "outputs": [],
   "source": [
    "!cd forcefield\n",
    "!wget https://raw.githubusercontent.com/openforcefield/openforcefields/master/openforcefields/offxml/openff-1.0.0.offxml\n",
    "!cd ../"
   ],
   "metadata": {
    "collapsed": false,
    "pycharm": {
     "name": "#%%\n"
    }
   }
  },
  {
   "cell_type": "markdown",
   "source": [
    "*Note: The force field parameters are stored in the OpenFF SMIRNOFF format, more information about which can be \n",
    "[found here](https://open-forcefield-toolkit.readthedocs.io/en/0.6.0/smirnoff.html).*\n",
    "\n",
    "### Creating the Main Input File\n",
    "\n",
    "Next, we will create the main ForceBalance input file. For the sake of brevity for this tutorial a default input file\n",
    "which ships with this framework will be used:"
   ],
   "metadata": {
    "collapsed": false
   }
  },
  {
   "cell_type": "code",
   "execution_count": null,
   "outputs": [],
   "source": [
    "from evaluator.utils import get_data_filename\n",
    "input_file_path = get_data_filename(\"tutorials/tutorial04/optimize.in\")\n",
    "\n",
    "# Copy the input file into our directory structure\n",
    "from shutil import copyfile\n",
    "shutil.copyfile(input_file_path, \"optimize.in\")"
   ],
   "metadata": {
    "collapsed": false,
    "pycharm": {
     "name": "#%%\n"
    }
   }
  },
  {
   "cell_type": "markdown",
   "source": [
    "While there are many options that can be set within this file, the main options of interest for our purposes appear\n",
    "at the bottom of the file:"
   ],
   "metadata": {
    "collapsed": false
   }
  },
  {
   "cell_type": "code",
   "execution_count": null,
   "outputs": [],
   "source": [
    "!tail -n 6 optimize.in"
   ],
   "metadata": {
    "collapsed": false,
    "pycharm": {
     "name": "#%%\n"
    }
   }
  },
  {
   "cell_type": "markdown",
   "source": [
    "Here we have specified that we wish to create a new ForceBalance `Evaluator_SMIRNOFF` target called `pure_data` \n",
    "(corresponding to the name of the directory we created in the earlier step).\n",
    " \n",
    "The main input to this target is the file path to an `options.json` file - it is this file which will specify all the\n",
    "options which should be used when ForceBalance requests that our target data set be estimated using the current sets\n",
    "of force field parameters.\n",
    "\n",
    "We will create this file in the `targets/pure_data` directory later in this section.\n",
    "\n",
    "### Defining the Training Data Set\n",
    "\n",
    "Before defining the estimation options, we will store the data set which we will be training the force field against\n",
    "in the target directory created earlier:"
   ],
   "metadata": {
    "collapsed": false
   }
  },
  {
   "cell_type": "code",
   "execution_count": null,
   "outputs": [],
   "source": [
    "# For convenience we will use the copy shipped with the framework\n",
    "data_set_file_path = get_data_filename(\"tutorials/tutorial01/filtered_data_set.json\")\n",
    "\n",
    "# The data set needs to be stored in our targets folder:\n",
    "shutil.copyfile(data_set_file_path, \"targets/pure_data/training_set.json\")"
   ],
   "metadata": {
    "collapsed": false,
    "pycharm": {
     "name": "#%%\n"
    }
   }
  },
  {
   "cell_type": "markdown",
   "source": [
    "The data set is the JSON serialized representation of the `PhysicalPropertyDataSet` we created during the [first \n",
    "tutorial](tutorial01.ipynb).\n",
    "\n",
    "### Defining the Estimation Options\n",
    "\n",
    "The final step before we can start the optimization is to create the set of options which will govern how our data set\n",
    "is estimated using the Evaluator framework.\n",
    " \n",
    "These options will be stored in an `Evaluator_SMIRNOFF` object:"
   ],
   "metadata": {
    "collapsed": false,
    "pycharm": {
     "name": "#%% md\n"
    }
   }
  },
  {
   "cell_type": "code",
   "execution_count": null,
   "outputs": [],
   "source": [
    "from forcebalance.evaluator import Evaluator_SMIRNOFF\n",
    "\n",
    "# Create the force balance options object\n",
    "target_options = Evaluator_SMIRNOFF.OptionsFile()\n",
    "target_options.estimation_options = evaluator_options"
   ],
   "metadata": {
    "collapsed": false,
    "pycharm": {
     "name": "#%% \n"
    }
   }
  },
  {
   "cell_type": "markdown",
   "source": [
    "This object exposes both a set of ForceBalance specific options, as well as the set of Evaluator options. \n",
    "\n",
    "The ForceBalance specific options allow us to define how each type of property will contribute to the optimization\n",
    "objective function (the value which we are trying to minimize):\n",
    "\n",
    "$$\\Delta(\\theta) = \\sum^N_n \\dfrac{weight_n}{M_n} \\sum^{M_n}_m \\left(\\dfrac{y_m^{ref} - y_m(\\theta)}{denominator_{n}}\\right)^2$$ \n",
    "\n",
    "where $N$ is the number of types of properties (e.g. density, enthalpy of vaporization, etc.), $M_n$ is the number of\n",
    "data points of type $n$, $y_m^{ref}$ is the experimental value of data point $m$ and $y_m(\\theta)$ is the estimated \n",
    "value of data point $m$ using the current force field parameters\n",
    "\n",
    "In particular, the options object allows us to specify both an amount to scale each type of properties contribution to \n",
    "the objective function by ($weight_n$), and the amount to scale the difference between the experimental and estimated\n",
    "properties ($denominator_n$):"
   ],
   "metadata": {
    "collapsed": false,
    "pycharm": {
     "name": "#%% md\n"
    }
   }
  },
  {
   "cell_type": "code",
   "execution_count": null,
   "outputs": [],
   "source": [
    "from evaluator import unit\n",
    "\n",
    "target_options.weights = {\n",
    "    \"Density\": 1.0,\n",
    "    \"EnthalpyOfVaporization\": 1.0\n",
    "}\n",
    "target_options.denominators = {\n",
    "    \"Density\": 30.0 * unit.kilogram / unit.meter ** 3,\n",
    "    \"EnthalpyOfVaporization\": 3.0 * unit.kilojoule / unit.mole\n",
    "}\n",
    " "
   ],
   "metadata": {
    "collapsed": false,
    "pycharm": {
     "name": "#%%\n"
    }
   }
  },
  {
   "cell_type": "markdown",
   "source": [
    " \n",
    "where here we have chosen values that ensure that both types of properties contribute roughly the same to the total\n",
    "objective function.\n",
    "\n",
    "The Evaluator specific options correspond to a standard `RequestOptions` object:"
   ],
   "metadata": {
    "collapsed": false,
    "pycharm": {
     "name": "#%% md\n"
    }
   }
  },
  {
   "cell_type": "code",
   "execution_count": null,
   "outputs": [],
   "source": [
    "# Create the options which evaluator should use.\n",
    "evaluator_options = RequestOptions()\n",
    "# Choose which calculation layers to make available.\n",
    "evaluator_options.calculation_layers = [\"SimulationLayer\"]"
   ],
   "metadata": {
    "collapsed": false,
    "pycharm": {
     "name": "#%%\n"
    }
   }
  },
  {
   "cell_type": "markdown",
   "source": [
    "These options allow us to control exactly how each type of property should be estimated, which calculation approaches\n",
    "should be used and more. Here we just use the default options, however more information about the different choices\n",
    "exposed can be [found here](../gettingstarted/client.rst).\n",
    "\n",
    "We must additionally specify the name of the data set object which we wish to fit against:"
   ],
   "metadata": {
    "collapsed": false,
    "pycharm": {
     "name": "#%% md\n"
    }
   }
  },
  {
   "cell_type": "code",
   "execution_count": null,
   "outputs": [],
   "source": [
    "# Set the path to the data set\n",
    "target_options.data_set_path = \"data_set.json\""
   ],
   "metadata": {
    "collapsed": false,
    "pycharm": {
     "name": "#%% \n"
    }
   }
  },
  {
   "cell_type": "markdown",
   "source": [
    "And that's the options created! We will finish off by serializing the options into our target directory:"
   ],
   "metadata": {
    "collapsed": false,
    "pycharm": {
     "name": "#%% md\n"
    }
   }
  },
  {
   "cell_type": "code",
   "execution_count": null,
   "outputs": [],
   "source": [
    "# Save the options to file.\n",
    "with open(\"targets/pure_data/options.json\", \"w\") as file:\n",
    "    file.write(target_options.to_json())"
   ],
   "metadata": {
    "collapsed": false,
    "pycharm": {
     "name": "#%%\n"
    }
   }
  },
  {
   "cell_type": "markdown",
   "source": [
    "## Launching an Evaluator Server\n",
    "\n",
    "With the force balance options created, we can now move onto launching the `EvaluatorServer` which ForceBalance will \n",
    "call out to when it needs the data set to be evaluated:"
   ],
   "metadata": {
    "collapsed": false,
    "pycharm": {
     "name": "#%% md\n"
    }
   }
  },
  {
   "cell_type": "code",
   "execution_count": null,
   "outputs": [],
   "source": [
    "# Launch the calculation backend which will distribute any calculations.\n",
    "from evaluator.backends import ComputeResources\n",
    "from evaluator.backends.dask import DaskLocalCluster\n",
    "\n",
    "calculation_backend = DaskLocalCluster(\n",
    "    number_of_workers=1,\n",
    "    resources_per_worker=ComputeResources(\n",
    "        number_of_threads=1, \n",
    "        number_of_gpus=0, \n",
    "        preferred_gpu_toolkit=ComputeResources.GPUToolkit.CUDA\n",
    "    ),\n",
    ")\n",
    "calculation_backend.start()\n",
    "\n",
    "# Launch the server object which will listen for estimation requests and schedule any \n",
    "# required calculations.\n",
    "from evaluator.server import EvaluatorServer\n",
    "\n",
    "evaluator_server = EvaluatorServer(calculation_backend=calculation_backend)\n",
    "evaluator_server.start(asynchronous=True)"
   ],
   "metadata": {
    "collapsed": false,
    "pycharm": {
     "name": "#%%\n"
    }
   }
  },
  {
   "cell_type": "markdown",
   "source": [
    "We will not go into the details of this here as this was already covered in the [second tutorial](tutorial02.ipynb)\n",
    "\n",
    "## Running ForceBalance\n",
    "\n",
    "With the inputs created and an Evaluator server spun up, we are finally ready to run the optimization! If everything\n",
    "went well so far, this can be accomplished with a single command:"
   ],
   "metadata": {
    "collapsed": false
   }
  },
  {
   "cell_type": "code",
   "execution_count": null,
   "outputs": [],
   "source": [
    "!ForceBalance optimize.in"
   ],
   "metadata": {
    "collapsed": false,
    "pycharm": {
     "name": "#%%\n"
    }
   }
  },
  {
   "cell_type": "markdown",
   "source": [
    "If everything went well ForceBalance should exit cleanly, and will have stored out newly optimized force field in the\n",
    "`results` directory."
   ],
   "metadata": {
    "collapsed": false,
    "pycharm": {
     "name": "#%% md\n"
    }
   }
  },
  {
   "cell_type": "code",
   "execution_count": null,
   "outputs": [],
   "source": [
    "!ls results/*"
   ],
   "metadata": {
    "collapsed": false,
    "pycharm": {
     "name": "#%%\n"
    }
   }
  }
 ]
}