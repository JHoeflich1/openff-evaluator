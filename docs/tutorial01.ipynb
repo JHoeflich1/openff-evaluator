{
 "cells": [
  {
   "cell_type": "markdown",
   "source": [
    "# Tutorial 01 - Loading Data Sets\n",
    "\n",
    "In this tutorial we will be exploring the frameworks utilities for loading and manipulating data sets of physical\n",
    "property measurements. The tutorial will cover\n",
    "\n",
    "- Loading a data set of density measurements from NISTs ThermoML Archive\n",
    "- Filtering the data set down using a range of criteria, including temperature pressure, and composition.\n",
    "- Supplementing the data set with enthalpy of vaporization ($\\Delta H_{v}$) data sourced directly from the literature\n",
    "\n",
    "For the sake of clarity in this tutorial all warnings will be disabled:"
   ],
   "metadata": {
    "collapsed": false
   }
  },
  {
   "cell_type": "code",
   "execution_count": 1,
   "outputs": [],
   "source": [
    "import warnings\n",
    "warnings.filterwarnings('ignore')\n",
    "import logging\n",
    "logging.getLogger(\"openforcefield\").setLevel(logging.ERROR)"
   ],
   "metadata": {
    "collapsed": false,
    "pycharm": {
     "name": "#%%\n",
     "is_executing": false
    }
   }
  },
  {
   "cell_type": "markdown",
   "source": [
    "## Extracting Data from ThermoML\n",
    "\n",
    "For anyone who is not familiar with the ThermoML archive - it is a fantastic database of physical property measurements\n",
    "which have been extracted from data published in the \n",
    "\n",
    "- Journal of Chemical and Engineering Data\n",
    "- Journal of Chemical Thermodynamics\n",
    "- Fluid Phase Equilibria\n",
    "- Thermochimica Acta \n",
    "- International Journal of Thermophysics\n",
    "\n",
    "journals. It includes data for a wealth of different physical properties, from simple densities and melting points, to \n",
    "activity coefficients and osmotic coefficients, all of which is freely available. As such, it serves as a fantastic \n",
    "resource for benchmarking and optimising molecular force fields against.\n",
    "\n",
    "The Evaluator framework has built-in support for extracting this wealth of data, storing the data in easy to manipulate \n",
    "python objects, and for automatically re-computing those properties using an array of calculation techniques, such as \n",
    "molecular simulations and, in future, from trained surrogate models.\n",
    "\n",
    "This support is provided by the `ThermoMLDataSet` object:"
   ],
   "metadata": {
    "collapsed": false
   }
  },
  {
   "cell_type": "code",
   "execution_count": 2,
   "outputs": [],
   "source": [
    "from propertyestimator.datasets.thermoml import ThermoMLDataSet"
   ],
   "metadata": {
    "collapsed": false,
    "pycharm": {
     "name": "#%%\n",
     "is_executing": false
    }
   }
  },
  {
   "cell_type": "markdown",
   "source": [
    "The `ThermoMLDataSet` object offers two main routes for extracting data the the archive:\n",
    "\n",
    "- extracting data directly from the NIST ThermoML web server\n",
    "- extracting data from a local ThermoML XML archive file\n",
    "\n",
    "Here we will be extracting data directly from the web server. To pull data from the web server we need to specifiy the \n",
    "digital object identifiers (DOIs) of the data we wish to extract - these correspond to the DOI of the publication that\n",
    "the data was initially sourced from.\n",
    "\n",
    "For this tutorial we will be extracting data using the following DOIs:   "
   ],
   "metadata": {
    "collapsed": false
   }
  },
  {
   "cell_type": "code",
   "execution_count": 3,
   "outputs": [
    {
     "name": "stderr",
     "text": [
      "RDKit WARNING: [16:59:25] Enabling RDKit 2019.09.2 jupyter extensions\n"
     ],
     "output_type": "stream"
    }
   ],
   "source": [
    "data_set = ThermoMLDataSet.from_doi(\n",
    "    \"10.1016/j.fluid.2013.10.034\",\n",
    "    \"10.1021/je1013476\",\n",
    ")"
   ],
   "metadata": {
    "collapsed": false,
    "pycharm": {
     "name": "#%%\n",
     "is_executing": false
    }
   }
  },
  {
   "cell_type": "markdown",
   "source": [
    "We can inspect the data set to see how many properties were loaded:"
   ],
   "metadata": {
    "collapsed": false
   }
  },
  {
   "cell_type": "code",
   "execution_count": 4,
   "outputs": [
    {
     "data": {
      "text/plain": "275"
     },
     "metadata": {},
     "output_type": "execute_result",
     "execution_count": 4
    }
   ],
   "source": [
    "len(data_set)"
   ],
   "metadata": {
    "collapsed": false,
    "pycharm": {
     "name": "#%% \n",
     "is_executing": false
    }
   }
  },
  {
   "cell_type": "markdown",
   "source": [
    "and for how many different substances those properties were measured for:"
   ],
   "metadata": {
    "collapsed": false,
    "pycharm": {
     "name": "#%% md\n"
    }
   }
  },
  {
   "cell_type": "code",
   "execution_count": 5,
   "outputs": [
    {
     "data": {
      "text/plain": "254"
     },
     "metadata": {},
     "output_type": "execute_result",
     "execution_count": 5
    }
   ],
   "source": [
    "len(data_set.substances)"
   ],
   "metadata": {
    "collapsed": false,
    "pycharm": {
     "name": "#%%\n",
     "is_executing": false
    }
   }
  },
  {
   "cell_type": "markdown",
   "source": [
    "We can also easily check which types of properties were loaded in:"
   ],
   "metadata": {
    "collapsed": false,
    "pycharm": {
     "name": "#%% md\n"
    }
   }
  },
  {
   "cell_type": "code",
   "execution_count": 6,
   "outputs": [
    {
     "name": "stdout",
     "text": [
      "{'Density', 'EnthalpyOfMixing'}\n"
     ],
     "output_type": "stream"
    }
   ],
   "source": [
    "print(data_set.property_types)"
   ],
   "metadata": {
    "collapsed": false,
    "pycharm": {
     "name": "#%% \n",
     "is_executing": false
    }
   }
  },
  {
   "cell_type": "markdown",
   "source": [
    "## Filtering the Data Set\n",
    "\n",
    "The data set object we just created contains many different functions which will allow us to filter the data down, \n",
    "retaining only those measurements which are of interest to us.\n",
    "\n",
    "The first thing we will do is filter out all of the measurements which aren't density measurements:"
   ],
   "metadata": {
    "collapsed": false,
    "pycharm": {
     "name": "#%% md\n"
    }
   }
  },
  {
   "cell_type": "code",
   "execution_count": 7,
   "outputs": [
    {
     "name": "stdout",
     "text": [
      "{'Density'}\n"
     ],
     "output_type": "stream"
    }
   ],
   "source": [
    "data_set.filter_by_property_types(\"Density\")\n",
    "print(data_set.property_types)"
   ],
   "metadata": {
    "collapsed": false,
    "pycharm": {
     "name": "#%%\n",
     "is_executing": false
    }
   }
  },
  {
   "cell_type": "markdown",
   "source": [
    "Next we will filter out all measurements which were made away from atmospheric conditions: "
   ],
   "metadata": {
    "collapsed": false,
    "pycharm": {
     "name": "#%% md\n"
    }
   }
  },
  {
   "cell_type": "code",
   "execution_count": 8,
   "outputs": [
    {
     "name": "stdout",
     "text": [
      "There were 213 properties before filtering\n",
      "There are now 9 properties after filtering\n"
     ],
     "output_type": "stream"
    }
   ],
   "source": [
    "from propertyestimator import unit\n",
    "\n",
    "print(f\"There were {len(data_set)} properties before filtering\")\n",
    "\n",
    "data_set.filter_by_temperature(\n",
    "    min_temperature=298.0 * unit.kelvin, max_temperature=298.2*unit.kelvin\n",
    ")\n",
    "\n",
    "data_set.filter_by_pressure(\n",
    "    min_pressure=0.999 * unit.atmosphere, max_pressure=1.001 * unit.atmosphere\n",
    ")\n",
    "\n",
    "print(f\"There are now {len(data_set)} properties after filtering\")"
   ],
   "metadata": {
    "collapsed": false,
    "pycharm": {
     "name": "#%% \n",
     "is_executing": false
    }
   }
  },
  {
   "cell_type": "markdown",
   "source": [
    ".. note:: Here we have made use of the `propertyestimator.unit` module to attach units to the temperatures and pressures \n",
    "   we are filtering by. This module simply exposes a `UnitRegistry` from the fantastic [pint](https://pint.readthedocs.io/en/stable/) \n",
    "   library. Pint provides full support for attaching to units to values and is used extensively throughout this \n",
    "   framework.\n",
    "\n",
    "Finally, we will filter out all measurements which were not measured for either ethanol (CCO) or isopropanol (CC(C)O):"
   ],
   "metadata": {
    "collapsed": false,
    "pycharm": {
     "name": "#%% md\n"
    }
   }
  },
  {
   "cell_type": "code",
   "execution_count": 9,
   "outputs": [
    {
     "name": "stdout",
     "text": [
      "There are now 2 properties after filtering\n"
     ],
     "output_type": "stream"
    }
   ],
   "source": [
    "data_set.filter_by_smiles(\"CCO\", \"CC(C)O\")\n",
    "print(f\"There are now {len(data_set)} properties after filtering\")"
   ],
   "metadata": {
    "collapsed": false,
    "pycharm": {
     "name": "#%% \n",
     "is_executing": false
    }
   }
  },
  {
   "cell_type": "markdown",
   "source": [
    "We will convert the filtered data to a pandas `DataFrame` to more easily visualize the final data set:"
   ],
   "metadata": {
    "collapsed": false
   }
  },
  {
   "cell_type": "code",
   "execution_count": 10,
   "outputs": [
    {
     "data": {
      "text/plain": "  Temperature     Pressure Component 1       Density Value  \\\n0    298.15 K  101.325 kPa      CC(C)O   782.7 kg / m ** 3   \n1    298.15 K  101.325 kPa         CCO  785.07 kg / m ** 3   \n\n                        Source  \n0  10.1016/j.fluid.2013.10.034  \n1            10.1021/je1013476  ",
      "text/html": "<div>\n<style scoped>\n    .dataframe tbody tr th:only-of-type {\n        vertical-align: middle;\n    }\n\n    .dataframe tbody tr th {\n        vertical-align: top;\n    }\n\n    .dataframe thead th {\n        text-align: right;\n    }\n</style>\n<table border=\"1\" class=\"dataframe\">\n  <thead>\n    <tr style=\"text-align: right;\">\n      <th></th>\n      <th>Temperature</th>\n      <th>Pressure</th>\n      <th>Component 1</th>\n      <th>Density Value</th>\n      <th>Source</th>\n    </tr>\n  </thead>\n  <tbody>\n    <tr>\n      <th>0</th>\n      <td>298.15 K</td>\n      <td>101.325 kPa</td>\n      <td>CC(C)O</td>\n      <td>782.7 kg / m ** 3</td>\n      <td>10.1016/j.fluid.2013.10.034</td>\n    </tr>\n    <tr>\n      <th>1</th>\n      <td>298.15 K</td>\n      <td>101.325 kPa</td>\n      <td>CCO</td>\n      <td>785.07 kg / m ** 3</td>\n      <td>10.1021/je1013476</td>\n    </tr>\n  </tbody>\n</table>\n</div>"
     },
     "metadata": {},
     "output_type": "execute_result",
     "execution_count": 10
    }
   ],
   "source": [
    "pandas_data_set = data_set.to_pandas()\n",
    "pandas_data_set[\n",
    "    [\"Temperature\", \"Pressure\", \"Component 1\", \"Density Value\", \"Source\"]\n",
    "].head()"
   ],
   "metadata": {
    "collapsed": false,
    "pycharm": {
     "name": "#%%\n",
     "is_executing": false
    }
   }
  },
  {
   "cell_type": "markdown",
   "source": [
    "Through filtering, we have now cut down from over 250 property measurements down to just 2. There are many more \n",
    "possible filters which can be applied. All of these and more information about the data set object can be found in the\n",
    "`PhysicalPropertyDataSet` (from which the `ThermoMLDataSet` class inherits) API documentation.\n",
    "\n",
    "## Adding Extra Data\n",
    "\n",
    "For the final part of this tutorial, we will be supplementing our newly filtered data set with some enthalpy of \n",
    "vaporization ($\\Delta H_{v}$) measurements sourced directly from the literature (as opposed to from the ThermoML \n",
    "archive).\n",
    "\n",
    "We will be sourcing values of the $\\Delta H_{v}$ of ethanol and isopropanol, summarised in the table below, from the \n",
    "[Enthalpies of vaporization of some aliphatic alcohols](https://www.sciencedirect.com/science/article/pii/S0021961471801088) \n",
    "publication:\n",
    "\n",
    "| Compound    | Temperature / $K$ | $\\Delta H_{v}$ / $kJ mol^{-1}$ | $\\delta \\Delta H_{v}$ / $kJ mol^{-1}$ |\n",
    "|-------------|-------------------|--------------------------------|---------------------------------------|\n",
    "| Ethanol     | 298.15            | 42.26                          | 0.02                                  |\n",
    "| Isopropanol | 298.15            | 45.34                          | 0.02                                  |\n",
    "\n",
    "In order to create a new $\\Delta H_{v}$ measurements, we will first define the state (namely temperature and pressure)\n",
    "that the measurements were recorded at:"
   ],
   "metadata": {
    "collapsed": false,
    "pycharm": {
     "name": "#%% md\n"
    }
   }
  },
  {
   "cell_type": "code",
   "execution_count": 11,
   "outputs": [],
   "source": [
    "from propertyestimator.thermodynamics import ThermodynamicState\n",
    "\n",
    "thermodynamic_state = ThermodynamicState(\n",
    "    temperature=298.15 * unit.kelvin, pressure=1.0 * unit.atmosphere\n",
    ") "
   ],
   "metadata": {
    "collapsed": false,
    "pycharm": {
     "name": "#%%\n",
     "is_executing": false
    }
   }
  },
  {
   "cell_type": "markdown",
   "source": [
    "the substances that the measurements were recorded for:"
   ],
   "metadata": {
    "collapsed": false
   }
  },
  {
   "cell_type": "code",
   "execution_count": 12,
   "outputs": [],
   "source": [
    "from propertyestimator.substances import Substance\n",
    "\n",
    "ethanol = Substance.from_components(\"CCO\")\n",
    "isopropanol = Substance.from_components(\"CC(C)O\")"
   ],
   "metadata": {
    "collapsed": false,
    "pycharm": {
     "name": "#%%\n",
     "is_executing": false
    }
   }
  },
  {
   "cell_type": "markdown",
   "source": [
    "and the source of this measurement (defined as the DOI of the publication):"
   ],
   "metadata": {
    "collapsed": false
   }
  },
  {
   "cell_type": "code",
   "execution_count": 13,
   "outputs": [],
   "source": [
    "from propertyestimator.datasets import MeasurementSource\n",
    "\n",
    "source = MeasurementSource(doi=\"10.1016/S0021-9614(71)80108-8\")"
   ],
   "metadata": {
    "collapsed": false,
    "pycharm": {
     "name": "#%%\n",
     "is_executing": false
    }
   }
  },
  {
   "cell_type": "markdown",
   "source": [
    "We will combine this information with the values of the measurements to create an object which encodes each of the \n",
    "$\\Delta H_{v}$ measurements  "
   ],
   "metadata": {
    "collapsed": false,
    "pycharm": {
     "name": "#%% md\n"
    }
   }
  },
  {
   "cell_type": "code",
   "execution_count": 14,
   "outputs": [],
   "source": [
    "from propertyestimator.datasets import PropertyPhase\n",
    "from propertyestimator.properties import EnthalpyOfVaporization\n",
    "\n",
    "ethanol_hvap = EnthalpyOfVaporization(\n",
    "    thermodynamic_state=thermodynamic_state,\n",
    "    phase=PropertyPhase.Liquid,\n",
    "    substance=ethanol,\n",
    "    value=42.26*unit.kilojoule / unit.mole,\n",
    "    uncertainty=0.02*unit.kilojoule / unit.mole,\n",
    "    source=source\n",
    ")\n",
    "isopropanol_hvap = EnthalpyOfVaporization(\n",
    "    thermodynamic_state=thermodynamic_state,\n",
    "    phase=PropertyPhase.Liquid,\n",
    "    substance=isopropanol,\n",
    "    value=45.34*unit.kilojoule / unit.mole,\n",
    "    uncertainty=0.02*unit.kilojoule / unit.mole,\n",
    "    source=source\n",
    ")"
   ],
   "metadata": {
    "collapsed": false,
    "pycharm": {
     "name": "#%%\n",
     "is_executing": false
    }
   }
  },
  {
   "cell_type": "markdown",
   "source": [
    "These properties can then be added to our data set:"
   ],
   "metadata": {
    "collapsed": false
   }
  },
  {
   "cell_type": "code",
   "execution_count": 15,
   "outputs": [],
   "source": [
    "data_set.add_properties(ethanol_hvap, isopropanol_hvap)"
   ],
   "metadata": {
    "collapsed": false,
    "pycharm": {
     "name": "#%%\n",
     "is_executing": false
    }
   }
  },
  {
   "cell_type": "markdown",
   "source": [
    "If we print the data set again using pandas we should see that our new measurements have been added:"
   ],
   "metadata": {
    "collapsed": false
   }
  },
  {
   "cell_type": "code",
   "execution_count": 16,
   "outputs": [
    {
     "data": {
      "text/plain": "  Temperature     Pressure Component 1       Density Value  \\\n0    298.15 K  101.325 kPa      CC(C)O   782.7 kg / m ** 3   \n1    298.15 K  101.325 kPa      CC(C)O                 NaN   \n2    298.15 K  101.325 kPa         CCO  785.07 kg / m ** 3   \n3    298.15 K  101.325 kPa         CCO                 NaN   \n\n  EnthalpyOfVaporization Value                         Source  \n0                          NaN    10.1016/j.fluid.2013.10.034  \n1                 0.0 kJ / mol  10.1016/S0021-9614(71)80108-8  \n2                          NaN              10.1021/je1013476  \n3                 0.0 kJ / mol  10.1016/S0021-9614(71)80108-8  ",
      "text/html": "<div>\n<style scoped>\n    .dataframe tbody tr th:only-of-type {\n        vertical-align: middle;\n    }\n\n    .dataframe tbody tr th {\n        vertical-align: top;\n    }\n\n    .dataframe thead th {\n        text-align: right;\n    }\n</style>\n<table border=\"1\" class=\"dataframe\">\n  <thead>\n    <tr style=\"text-align: right;\">\n      <th></th>\n      <th>Temperature</th>\n      <th>Pressure</th>\n      <th>Component 1</th>\n      <th>Density Value</th>\n      <th>EnthalpyOfVaporization Value</th>\n      <th>Source</th>\n    </tr>\n  </thead>\n  <tbody>\n    <tr>\n      <th>0</th>\n      <td>298.15 K</td>\n      <td>101.325 kPa</td>\n      <td>CC(C)O</td>\n      <td>782.7 kg / m ** 3</td>\n      <td>NaN</td>\n      <td>10.1016/j.fluid.2013.10.034</td>\n    </tr>\n    <tr>\n      <th>1</th>\n      <td>298.15 K</td>\n      <td>101.325 kPa</td>\n      <td>CC(C)O</td>\n      <td>NaN</td>\n      <td>0.0 kJ / mol</td>\n      <td>10.1016/S0021-9614(71)80108-8</td>\n    </tr>\n    <tr>\n      <th>2</th>\n      <td>298.15 K</td>\n      <td>101.325 kPa</td>\n      <td>CCO</td>\n      <td>785.07 kg / m ** 3</td>\n      <td>NaN</td>\n      <td>10.1021/je1013476</td>\n    </tr>\n    <tr>\n      <th>3</th>\n      <td>298.15 K</td>\n      <td>101.325 kPa</td>\n      <td>CCO</td>\n      <td>NaN</td>\n      <td>0.0 kJ / mol</td>\n      <td>10.1016/S0021-9614(71)80108-8</td>\n    </tr>\n  </tbody>\n</table>\n</div>"
     },
     "metadata": {},
     "output_type": "execute_result",
     "execution_count": 16
    }
   ],
   "source": [
    "pandas_data_set = data_set.to_pandas()\n",
    "pandas_data_set[\n",
    "    [\"Temperature\", \n",
    "     \"Pressure\", \n",
    "     \"Component 1\", \n",
    "     \"Density Value\", \n",
    "     \"EnthalpyOfVaporization Value\", \n",
    "     \"Source\"\n",
    "     ]\n",
    "].head()"
   ],
   "metadata": {
    "collapsed": false,
    "pycharm": {
     "name": "#%%\n",
     "is_executing": false
    }
   }
  },
  {
   "cell_type": "markdown",
   "source": [
    "and that concludes the first tutorial. In the next tutorial we will be ...\n",
    "\n",
    "## See Also\n",
    "\n",
    "For more information about data sets in the Evaluator framework check out the [data set](physicalproperties.rst) \n",
    "and [ThermoML](thermomldatasets.rst) documentation."
   ],
   "metadata": {
    "collapsed": false,
    "pycharm": {
     "name": "#%% md\n"
    }
   }
  }
 ],
 "metadata": {
  "kernelspec": {
   "display_name": "Python 3",
   "language": "python",
   "name": "python3"
  },
  "language_info": {
   "codemirror_mode": {
    "name": "ipython",
    "version": 2
   },
   "file_extension": ".py",
   "mimetype": "text/x-python",
   "name": "python",
   "nbconvert_exporter": "python",
   "pygments_lexer": "ipython2",
   "version": "2.7.6"
  },
  "pycharm": {
   "stem_cell": {
    "cell_type": "raw",
    "source": [],
    "metadata": {
     "collapsed": false
    }
   }
  }
 },
 "nbformat": 4,
 "nbformat_minor": 0
}